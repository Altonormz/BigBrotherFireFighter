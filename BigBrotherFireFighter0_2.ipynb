{
  "nbformat": 4,
  "nbformat_minor": 0,
  "metadata": {
    "colab": {
      "provenance": []
    },
    "kernelspec": {
      "name": "python3",
      "display_name": "Python 3"
    },
    "language_info": {
      "name": "python"
    }
  },
  "cells": [
    {
      "cell_type": "code",
      "execution_count": 2,
      "metadata": {
        "id": "6DmoKyX9tc1w"
      },
      "outputs": [],
      "source": [
        "import numpy as np \n",
        "import pandas as pd \n",
        "import matplotlib.pyplot as plt\n",
        "from keras.applications import ResNet50\n",
        "from keras.applications import VGG16\n",
        "from keras.models import Sequential\n",
        "from keras.layers import Dense, Flatten, GlobalAveragePooling2D\n",
        "from tensorflow.keras.applications.resnet50 import preprocess_input\n",
        "from keras.preprocessing.image import ImageDataGenerator\n",
        "from keras import optimizers\n",
        "from keras.utils import load_img, img_to_array\n",
        "import requests\n",
        "\n",
        "\n",
        "\n",
        "\n",
        "\n",
        "\n"
      ]
    },
    {
      "cell_type": "code",
      "source": [
        "# CONSTANTS\n",
        "FOLDERS = {'train': '/content/drive/My Drive/big_brother_firefighter/train', 'test':'/content/drive/My Drive/big_brother_firefighter/test'}\n",
        "PIC_SIZE = 224\n",
        "NUM_EPOCHS = 20\n",
        "NUM_CLASSES = 3\n",
        "TRAIN_BATCH_SIZE = 100\n",
        "TEST_BATCH_SIZE =1 "
      ],
      "metadata": {
        "id": "Dm3X_5JTtrZO"
      },
      "execution_count": 4,
      "outputs": []
    },
    {
      "cell_type": "code",
      "source": [
        "def init_model():\n",
        "  \"\"\"\n",
        "  Initializing a sequential model, 1st ResNet50, 2nd dense 100, 3rd dense 3\n",
        "  \"\"\"\n",
        "  mymodel = Sequential()\n",
        "  resnet = ResNet50(include_top=False, pooling='avg')\n",
        "  mymodel.add(resnet)\n",
        "  mymodel.layers[0].trainable = False # No need to train Resnet50 \n",
        "  mymodel.add(Dense(100, activation='relu'))\n",
        "  mymodel.add(Dense(NUM_CLASSES, activation='softmax')) # 3 is the amount of labels\n",
        "  mymodel.compile(optimizer='adam', loss='categorical_crossentropy', metrics=['accuracy'])\n",
        "  return mymodel"
      ],
      "metadata": {
        "id": "Fi0jbB7qtqPX"
      },
      "execution_count": null,
      "outputs": []
    },
    {
      "cell_type": "code",
      "source": [
        "# Connect to Google Colab folder for training.\n",
        "from google.colab import drive\n",
        "drive.mount('/content/drive')\n"
      ],
      "metadata": {
        "id": "l9aH6Rkhtkle"
      },
      "execution_count": null,
      "outputs": []
    },
    {
      "cell_type": "code",
      "source": [
        "# Training Model Part\n",
        "def training(model):\n",
        "  \"\"\"\n",
        "  Returns a trained model, the history of the model, and a labels dictionary.\n",
        "  Training the model with images from google drive.\n",
        "  \"\"\"\n",
        "  data_gen = ImageDataGenerator(preprocessing_function=preprocess_input,\n",
        "                                width_shift_range=0.1,\n",
        "                                height_shift_range=0.1,\n",
        "                                zoom_range=[0.9, 1.25],\n",
        "                                horizontal_flip=True,\n",
        "                                vertical_flip=False,\n",
        "                                data_format='channels_last',\n",
        "                                brightness_range=[0.5, 1.5]\n",
        "                               )\n",
        "  train_gen = data_gen.flow_from_directory(FOLDERS['train'], \n",
        "                                            target_size= (PIC_SIZE,PIC_SIZE),\n",
        "                                            batch_size=TRAIN_BATCH_SIZE,\n",
        "                                            shuffle = False,\n",
        "                                            class_mode='categorical')\n",
        "  labels = train_gen.class_indices \n",
        "  labels_dict = {v:k for k,v in labels.items()}\n",
        "  val_gen = data_gen.flow_from_directory(FOLDERS['test'], \n",
        "                                            target_size= (PIC_SIZE,PIC_SIZE),\n",
        "                                            batch_size=TEST_BATCH_SIZE,\n",
        "                                            shuffle = False,\n",
        "                                            class_mode='categorical')\n",
        "  n_train = train_gen.n\n",
        "  \n",
        "  model_history = model.fit(\n",
        "            train_gen,\n",
        "            steps_per_epoch=n_train/TRAIN_BATCH_SIZE,\n",
        "            epochs=NUM_EPOCHS,\n",
        "            validation_data=val_gen,\n",
        "            validation_steps=1                 \n",
        "            )\n",
        "  return model, model_history, labels_dict\n"
      ],
      "metadata": {
        "id": "9DxEhIdWtyqF"
      },
      "execution_count": 6,
      "outputs": []
    },
    {
      "cell_type": "code",
      "source": [
        "# Initilaize basic model before training\n",
        "model = init_model()\n",
        "\n",
        "model.summary()"
      ],
      "metadata": {
        "id": "jVYjKBHpt3bY"
      },
      "execution_count": null,
      "outputs": []
    },
    {
      "cell_type": "code",
      "source": [
        "# Returns model as mymodel, model history, and the labels from the dictionary\n",
        "mymodel, model_history, labels_dict = training(model)"
      ],
      "metadata": {
        "colab": {
          "base_uri": "https://localhost:8080/",
          "height": 236
        },
        "id": "Vvp7RmHNuY39",
        "outputId": "38a5a108-a7b5-43bc-d6f7-73f3c710e5f3"
      },
      "execution_count": 5,
      "outputs": [
        {
          "output_type": "error",
          "ename": "NameError",
          "evalue": "ignored",
          "traceback": [
            "\u001b[0;31m---------------------------------------------------------------------------\u001b[0m",
            "\u001b[0;31mNameError\u001b[0m                                 Traceback (most recent call last)",
            "\u001b[0;32m<ipython-input-5-4f6d2e786ccb>\u001b[0m in \u001b[0;36m<cell line: 2>\u001b[0;34m()\u001b[0m\n\u001b[1;32m      1\u001b[0m \u001b[0;31m# Returns model as mymodel, model history, and the labels from the dictionary\u001b[0m\u001b[0;34m\u001b[0m\u001b[0;34m\u001b[0m\u001b[0m\n\u001b[0;32m----> 2\u001b[0;31m \u001b[0mmymodel\u001b[0m\u001b[0;34m,\u001b[0m \u001b[0mmodel_history\u001b[0m\u001b[0;34m,\u001b[0m \u001b[0mlabels_dict\u001b[0m \u001b[0;34m=\u001b[0m \u001b[0mtraining\u001b[0m\u001b[0;34m(\u001b[0m\u001b[0mmodel\u001b[0m\u001b[0;34m)\u001b[0m\u001b[0;34m\u001b[0m\u001b[0;34m\u001b[0m\u001b[0m\n\u001b[0m",
            "\u001b[0;31mNameError\u001b[0m: name 'training' is not defined"
          ]
        }
      ]
    },
    {
      "cell_type": "code",
      "source": [
        "# Plotting the model accuracy and loss for refrence.\n",
        "def plot_history( model_history ):\n",
        "  \"\"\"\n",
        "  Plots the accuracy, and loss of the model on the train and val \n",
        "  using the model history.\n",
        "  \"\"\"\n",
        "    plt.style.use(\"ggplot\")\n",
        "    fig = plt.figure()\n",
        "    fig.set_size_inches(15, 5)\n",
        "    \n",
        "    fig.add_subplot(1, 3, 1)\n",
        "    plt.plot(np.arange(0, NUM_EPOCHS), model_history.history[\"loss\"], label=\"train_loss\")\n",
        "    plt.plot(np.arange(0, NUM_EPOCHS), model_history.history[\"val_loss\"], label=\"val_loss\")\n",
        "    plt.title(\"Training Loss and Validation Loss on Dataset\")\n",
        "    plt.xlabel(\"Epoch #\")\n",
        "    plt.ylabel(\"Loss\")\n",
        "    plt.legend(loc=\"lower left\")\n",
        "\n",
        "    \n",
        "    fig.add_subplot(1, 3, 2)\n",
        "    plt.plot(np.arange(0, NUM_EPOCHS), model_history.history[\"loss\"], label=\"train_loss\")\n",
        "    plt.plot(np.arange(0, NUM_EPOCHS), model_history.history[\"accuracy\"], label=\"train_acc\")\n",
        "    plt.title(\"Training Loss and Accuracy on Dataset\")\n",
        "    plt.xlabel(\"Epoch #\")\n",
        "    plt.ylabel(\"Loss/Accuracy\")\n",
        "    plt.legend(loc=\"lower left\")\n",
        "    \n",
        "    fig.add_subplot(1, 3, 3)\n",
        "    plt.plot(np.arange(0, NUM_EPOCHS), model_history.history[\"val_loss\"], label=\"val_loss\")\n",
        "    plt.plot(np.arange(0, NUM_EPOCHS), model_history.history[\"val_accuracy\"], label=\"val_aaccuracy\")\n",
        "    plt.title(\"Validation Loss and Accuracy on Dataset\")\n",
        "    plt.xlabel(\"Epoch #\")\n",
        "    plt.ylabel(\"Loss/Accuracy\")\n",
        "    plt.legend(loc=\"lower left\")\n",
        "\n",
        "\n",
        "    plt.show()\n",
        "    #plt.savefig(\"plot.png\")\n",
        "  plot_history(model_history)"
      ],
      "metadata": {
        "id": "pfss74_luJsK"
      },
      "execution_count": null,
      "outputs": []
    },
    {
      "cell_type": "code",
      "source": [],
      "metadata": {
        "id": "sAfAhMzRuG70"
      },
      "execution_count": null,
      "outputs": []
    },
    {
      "cell_type": "code",
      "source": [],
      "metadata": {
        "id": "kZA8dSq2wQol"
      },
      "execution_count": null,
      "outputs": []
    },
    {
      "cell_type": "code",
      "source": [
        "# Predict the images using url link\n",
        "import requests\n",
        "from PIL import Image\n",
        "from io import BytesIO\n",
        "def predict_from_url(model, url, label_dict):\n",
        "  \"\"\"\n",
        "  Returns the label with the highest confidence.\n",
        "  Returns a tuple with all the confidence levels.\n",
        "  \"\"\"\n",
        "  response = requests.get(url)\n",
        "  image = Image.open(BytesIO(response.content))\n",
        "  image = image.resize((PIC_SIZE, PIC_SIZE))\n",
        "  image_array = img_to_array(image)\n",
        "  image_array = np.expand_dims(image_array, axis=0)\n",
        "  image_array = preprocess_input(image_array)\n",
        "  pred_vec = model.predict(image_array)\n",
        "  pred_class = np.argmax(pred_vec)\n",
        "  confidence = np.max(pred_vec)\n",
        "  label = label_dict[pred_class]\n",
        "  return label, confidence, pred_vec\n"
      ],
      "metadata": {
        "id": "hkEcsC3Xuim-"
      },
      "execution_count": null,
      "outputs": []
    },
    {
      "cell_type": "code",
      "source": [
        "# Change img_path to get the prediction.\n",
        "img_path = 'https://img.freepik.com/premium-psd/snowdrift-isolated-transparent-background_725966-38.jpg?w=2000'\n",
        "predict_from_url(mymodel, img_path, labels_dict)"
      ],
      "metadata": {
        "colab": {
          "base_uri": "https://localhost:8080/",
          "height": 253
        },
        "id": "_ABApY6cukDO",
        "outputId": "2b7c1e92-b4f9-438f-c238-c342b363d268"
      },
      "execution_count": 7,
      "outputs": [
        {
          "output_type": "error",
          "ename": "NameError",
          "evalue": "ignored",
          "traceback": [
            "\u001b[0;31m---------------------------------------------------------------------------\u001b[0m",
            "\u001b[0;31mNameError\u001b[0m                                 Traceback (most recent call last)",
            "\u001b[0;32m<ipython-input-7-cfc73af5a1f5>\u001b[0m in \u001b[0;36m<cell line: 3>\u001b[0;34m()\u001b[0m\n\u001b[1;32m      1\u001b[0m \u001b[0;31m# Change img_path to get the prediction.\u001b[0m\u001b[0;34m\u001b[0m\u001b[0;34m\u001b[0m\u001b[0m\n\u001b[1;32m      2\u001b[0m \u001b[0mimg_path\u001b[0m \u001b[0;34m=\u001b[0m \u001b[0;34m'https://img.freepik.com/premium-psd/snowdrift-isolated-transparent-background_725966-38.jpg?w=2000'\u001b[0m\u001b[0;34m\u001b[0m\u001b[0;34m\u001b[0m\u001b[0m\n\u001b[0;32m----> 3\u001b[0;31m \u001b[0mpredict_from_url\u001b[0m\u001b[0;34m(\u001b[0m\u001b[0mmymodel\u001b[0m\u001b[0;34m,\u001b[0m \u001b[0mimg_path\u001b[0m\u001b[0;34m,\u001b[0m \u001b[0mlabels_dict\u001b[0m\u001b[0;34m)\u001b[0m\u001b[0;34m\u001b[0m\u001b[0;34m\u001b[0m\u001b[0m\n\u001b[0m",
            "\u001b[0;31mNameError\u001b[0m: name 'predict_from_url' is not defined"
          ]
        }
      ]
    },
    {
      "cell_type": "code",
      "source": [],
      "metadata": {
        "id": "eA48AGwkyaAo"
      },
      "execution_count": null,
      "outputs": []
    }
  ]
}